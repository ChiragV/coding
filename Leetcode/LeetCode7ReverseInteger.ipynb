{
 "cells": [
  {
   "cell_type": "markdown",
   "metadata": {},
   "source": [
    "## Reverse a Integer"
   ]
  },
  {
   "cell_type": "markdown",
   "metadata": {},
   "source": [
    "Now, let's do simple thing first (using Math!). To simply reverse we need to take last digit and make source shorter."
   ]
  },
  {
   "cell_type": "code",
   "execution_count": 7,
   "metadata": {},
   "outputs": [],
   "source": [
    "public int reverse(int x) {\n",
    "\n",
    "    int rev=0;\n",
    "    while(x!=0)\n",
    "    {\n",
    "        int reminder=x%10; \n",
    "        x=x/10;       \n",
    "        rev=rev*10+reminder;\n",
    "    }\n",
    "    return rev;\n",
    "}"
   ]
  },
  {
   "cell_type": "code",
   "execution_count": 8,
   "metadata": {},
   "outputs": [
    {
     "data": {
      "text/plain": [
       "521"
      ]
     },
     "execution_count": 8,
     "metadata": {},
     "output_type": "execute_result"
    }
   ],
   "source": [
    "reverse(125);"
   ]
  },
  {
   "cell_type": "code",
   "execution_count": 9,
   "metadata": {},
   "outputs": [
    {
     "data": {
      "text/plain": [
       "-521"
      ]
     },
     "execution_count": 9,
     "metadata": {},
     "output_type": "execute_result"
    }
   ],
   "source": [
    "reverse(-125);"
   ]
  },
  {
   "cell_type": "code",
   "execution_count": 11,
   "metadata": {},
   "outputs": [
    {
     "data": {
      "text/plain": [
       "1056389759"
      ]
     },
     "execution_count": 11,
     "metadata": {},
     "output_type": "execute_result"
    }
   ],
   "source": [
    "reverse(1534236469); //this is out of range, hence will give wrong answer."
   ]
  },
  {
   "cell_type": "markdown",
   "metadata": {},
   "source": [
    "Strange answerisn't it? Wonder why [check my stackoverflow answer](https://stackoverflow.com/questions/9397475/why-integer-max-value-1-integer-min-value/67100352#67100352)"
   ]
  },
  {
   "cell_type": "markdown",
   "metadata": {},
   "source": [
    "Let's fix that. If there is overflow then return 0."
   ]
  },
  {
   "cell_type": "code",
   "execution_count": 13,
   "metadata": {},
   "outputs": [],
   "source": [
    "public int reverse(int x) {\n",
    "\n",
    "    int rev=0;\n",
    "    while(x!=0)\n",
    "    {\n",
    "        int reminder=x%10; \n",
    "        x=x/10;\n",
    "   \n",
    "        rev=rev*10+reminder;\n",
    "       \n",
    "       //handling overflow logic\n",
    "       if((rev>Integer.MAX_VALUE/10 ||rev<Integer.MIN_VALUE/10) && x!=0) //x==0 means we are done already\n",
    "       return 0;\n",
    "    }\n",
    "    return rev;\n",
    "}"
   ]
  },
  {
   "cell_type": "code",
   "execution_count": 14,
   "metadata": {},
   "outputs": [
    {
     "data": {
      "text/plain": [
       "0"
      ]
     },
     "execution_count": 14,
     "metadata": {},
     "output_type": "execute_result"
    }
   ],
   "source": [
    "reverse(1534236469);"
   ]
  },
  {
   "cell_type": "markdown",
   "metadata": {},
   "source": [
    "We can do same thing using string reverse."
   ]
  },
  {
   "cell_type": "code",
   "execution_count": 15,
   "metadata": {},
   "outputs": [],
   "source": [
    "public static int reverse1(int x) {\n",
    "        int num=x<0?-x:x; // if negative then make it positive, it will make life simple\n",
    "        StringBuffer sb=new StringBuffer(num+\"\");\n",
    "        try\n",
    "        {\n",
    "          long finalVal=Long.parseLong(sb.reverse().toString());\n",
    "          if(finalVal>Integer.MAX_VALUE ||  finalVal<Integer.MIN_VALUE)\n",
    "            return 0;\n",
    "          if(x<0) //it was negative at the beginning, so make answer(reversed number) as negative too.\n",
    "          finalVal=-finalVal;\n",
    "          return (int)finalVal;\n",
    "        }catch(NumberFormatException e){return 0;} //overflow handling\n",
    "}"
   ]
  },
  {
   "cell_type": "code",
   "execution_count": 16,
   "metadata": {},
   "outputs": [
    {
     "data": {
      "text/plain": [
       "0"
      ]
     },
     "execution_count": 16,
     "metadata": {},
     "output_type": "execute_result"
    }
   ],
   "source": [
    "reverse1(1534236469);"
   ]
  },
  {
   "cell_type": "code",
   "execution_count": 17,
   "metadata": {},
   "outputs": [
    {
     "data": {
      "text/plain": [
       "-125"
      ]
     },
     "execution_count": 17,
     "metadata": {},
     "output_type": "execute_result"
    }
   ],
   "source": [
    "reverse1(-521);"
   ]
  },
  {
   "cell_type": "markdown",
   "metadata": {},
   "source": [
    "Done !\n",
    "--The End--"
   ]
  }
 ],
 "metadata": {
  "kernelspec": {
   "display_name": "Java",
   "language": "java",
   "name": "java"
  },
  "language_info": {
   "codemirror_mode": "java",
   "file_extension": ".jshell",
   "mimetype": "text/x-java-source",
   "name": "Java",
   "pygments_lexer": "java",
   "version": "12.0.2+10"
  }
 },
 "nbformat": 4,
 "nbformat_minor": 2
}
