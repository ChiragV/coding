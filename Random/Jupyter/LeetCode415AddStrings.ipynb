{
 "cells": [
  {
   "cell_type": "markdown",
   "metadata": {},
   "source": [
    "##  Leetcode (Easy) : 415. Add Strings\n"
   ]
  },
  {
   "cell_type": "markdown",
   "metadata": {},
   "source": [
    "\n",
    "Given two non-negative integers, num1 and num2 represented as string, return the sum of num1 and num2 as a string.\n",
    "\n",
    "You must solve the problem without using any built-in library for handling large integers (such as BigInteger). You must also not convert the inputs to integers directly.\n",
    "\n",
    "Example 1:\n",
    "\n",
    "Input: num1 = \"11\", num2 = \"123\"\n",
    "Output: \"134\"\n",
    "\n",
    "Example 2:\n",
    "\n",
    "Input: num1 = \"456\", num2 = \"77\"\n",
    "Output: \"533\"\n",
    "\n",
    "Example 3:\n",
    "\n",
    "Input: num1 = \"0\", num2 = \"0\"\n",
    "Output: \"0\"\n"
   ]
  },
  {
   "cell_type": "markdown",
   "metadata": {},
   "source": [
    "1. Make number string as equal length. To do that add zeros at the beginging for smaller string. i.e. \"11\" becomes \"011\".\n",
    "2. Read one chracter at a time from right to left and add them ( need to convert to Integer ).\n",
    "3. Take care of carry. For this if sub-sum is greater then 9 then add 1 to extra variable otherwise make it 0."
   ]
  },
  {
   "cell_type": "markdown",
   "metadata": {},
   "source": [
    "### Step1\n",
    "Make number string as equal length. To do that add zeros at the beginging for smaller string. i.e. \"11\" becomes \"011\"."
   ]
  },
  {
   "cell_type": "code",
   "execution_count": 6,
   "metadata": {},
   "outputs": [],
   "source": [
    "public boolean addStrings(String num1, String num2)  \n",
    "{\n",
    "    //keep adding zeros at the beginning till both string length becomes equal\n",
    "    if(num1.length()>num2.length()) //num1 string bigger\n",
    "    {\n",
    "        while(num1.length()-num2.length()!=0)\n",
    "        num2=\"0\"+num2;\n",
    "    }\n",
    "    else if(num2.length()>num1.length()) ////num2 string bigger\n",
    "    {\n",
    "      while(num2.length()-num1.length()!=0)\n",
    "      num1=\"0\"+num1;\n",
    "    } // else //both are equal and nothing to do\n",
    "    System.out.println(\"num1:\"+num1+\",\"+\" num2 :\"+num2);\n",
    "    return num1.length()==num2.length();\n",
    "}"
   ]
  },
  {
   "cell_type": "code",
   "execution_count": 9,
   "metadata": {},
   "outputs": [
    {
     "name": "stdout",
     "output_type": "stream",
     "text": [
      "num1:011,num2 :123\n"
     ]
    },
    {
     "data": {
      "text/plain": [
       "true"
      ]
     },
     "execution_count": 9,
     "metadata": {},
     "output_type": "execute_result"
    }
   ],
   "source": [
    "addStrings(\"11\",\"123\");"
   ]
  },
  {
   "cell_type": "markdown",
   "metadata": {},
   "source": [
    "Cool ! Expected Result"
   ]
  },
  {
   "cell_type": "markdown",
   "metadata": {},
   "source": [
    "### Step2\n",
    "Read one chracter at a time from right to left and add them ( need to convert to Integer )."
   ]
  },
  {
   "cell_type": "code",
   "execution_count": 20,
   "metadata": {},
   "outputs": [],
   "source": [
    "public String addStrings(String num1, String num2)  \n",
    "{\n",
    "    //keep adding zeros at the beginning till both string length becomes equal\n",
    "    if(num1.length()>num2.length()) //num1 string bigger\n",
    "    {\n",
    "        while(num1.length()-num2.length()!=0)\n",
    "        num2=\"0\"+num2;\n",
    "    }\n",
    "    else if(num2.length()>num1.length()) ////num2 string bigger\n",
    "    {\n",
    "      while(num2.length()-num1.length()!=0)\n",
    "      num1=\"0\"+num1;\n",
    "    } // else //both are equal and nothing to do\n",
    "    System.out.println(\"num1:\"+num1+\",\"+\" num2 :\"+num2);\n",
    "    \n",
    "    //step 2 \n",
    "    //Read one chracter at a time from right to left and add them\n",
    "    \n",
    "    String finalString=\"\";\n",
    "    for(int i=num1.length()-1;i>=0;i--)\n",
    "    {\n",
    "     int finalSum=Integer.parseInt(num1.charAt(i)+\"\")+Integer.parseInt(num2.charAt(i)+\"\");\n",
    "     finalString=finalSum+finalString;\n",
    "     finalSum=0;\n",
    "    }\n",
    "    return finalString;\n",
    "}"
   ]
  },
  {
   "cell_type": "code",
   "execution_count": 21,
   "metadata": {},
   "outputs": [
    {
     "name": "stdout",
     "output_type": "stream",
     "text": [
      "num1:011, num2 :123\n"
     ]
    },
    {
     "data": {
      "text/plain": [
       "134"
      ]
     },
     "execution_count": 21,
     "metadata": {},
     "output_type": "execute_result"
    }
   ],
   "source": [
    "addStrings(\"11\",\"123\");"
   ]
  },
  {
   "cell_type": "markdown",
   "metadata": {},
   "source": [
    "This worked ! But ofcourse, we are not done yet."
   ]
  },
  {
   "cell_type": "markdown",
   "metadata": {},
   "source": [
    "### Step3\n",
    "Take care of carry. For this if sub-sum is greater then 9 then add 1 to extra variable otherwise make it 0."
   ]
  },
  {
   "cell_type": "code",
   "execution_count": 33,
   "metadata": {},
   "outputs": [],
   "source": [
    "public String addStrings(String num1, String num2)  \n",
    "{\n",
    "    //keep adding zeros at the beginning till both string length becomes equal\n",
    "    if(num1.length()>num2.length()) //num1 string bigger\n",
    "    {\n",
    "        while(num1.length()-num2.length()!=0)\n",
    "        num2=\"0\"+num2;\n",
    "    }\n",
    "    else if(num2.length()>num1.length()) ////num2 string bigger\n",
    "    {\n",
    "      while(num2.length()-num1.length()!=0)\n",
    "      num1=\"0\"+num1;\n",
    "    } // else //both are equal and nothing to do\n",
    "    System.out.println(\"num1:\"+num1+\",\"+\" num2 :\"+num2);\n",
    "    \n",
    "    //step 2 \n",
    "    //Read one chracter at a time from right to left and add them\n",
    "    \n",
    "    String finalString=\"\";\n",
    "    int carry=0;\n",
    "    for(int i=num1.length()-1;i>=0;i--)\n",
    "    {\n",
    "          int finalSum=carry+Integer.parseInt(num1.charAt(i)+\"\")+Integer.parseInt(num2.charAt(i)+\"\");     \n",
    "         \n",
    "         //Step 3\n",
    "         //Take care of carry. For this if finalSum is greater then 9 then add 1 to extra variable otherwise make it 0.\n",
    "         if(finalSum>9 && i!=0)// i==0 means we reached at the end so no carry required\n",
    "         {\n",
    "            carry=1;\n",
    "            finalString=finalSum-10+finalString;\n",
    "        }\n",
    "        else\n",
    "        {\n",
    "            carry=0;\n",
    "            finalString=finalSum+finalString;\n",
    "        }\n",
    "    }\n",
    "    return finalString;\n",
    "}"
   ]
  },
  {
   "cell_type": "code",
   "execution_count": 34,
   "metadata": {},
   "outputs": [
    {
     "name": "stdout",
     "output_type": "stream",
     "text": [
      "num1:011, num2 :123\n"
     ]
    },
    {
     "data": {
      "text/plain": [
       "134"
      ]
     },
     "execution_count": 34,
     "metadata": {},
     "output_type": "execute_result"
    }
   ],
   "source": [
    "addStrings(\"11\",\"123\");"
   ]
  },
  {
   "cell_type": "code",
   "execution_count": 35,
   "metadata": {},
   "outputs": [
    {
     "name": "stdout",
     "output_type": "stream",
     "text": [
      "num1:456, num2 :077\n"
     ]
    },
    {
     "data": {
      "text/plain": [
       "533"
      ]
     },
     "execution_count": 35,
     "metadata": {},
     "output_type": "execute_result"
    }
   ],
   "source": [
    "addStrings(\"456\",\"77\");"
   ]
  },
  {
   "cell_type": "code",
   "execution_count": 36,
   "metadata": {},
   "outputs": [
    {
     "name": "stdout",
     "output_type": "stream",
     "text": [
      "num1:0, num2 :0\n"
     ]
    },
    {
     "data": {
      "text/plain": [
       "0"
      ]
     },
     "execution_count": 36,
     "metadata": {},
     "output_type": "execute_result"
    }
   ],
   "source": [
    "addStrings(\"0\",\"0\");"
   ]
  },
  {
   "cell_type": "markdown",
   "metadata": {},
   "source": [
    "Done <br/>\n",
    "-- The End --"
   ]
  }
 ],
 "metadata": {
  "kernelspec": {
   "display_name": "Java",
   "language": "java",
   "name": "java"
  },
  "language_info": {
   "codemirror_mode": "java",
   "file_extension": ".jshell",
   "mimetype": "text/x-java-source",
   "name": "Java",
   "pygments_lexer": "java",
   "version": "12.0.2+10"
  }
 },
 "nbformat": 4,
 "nbformat_minor": 2
}
