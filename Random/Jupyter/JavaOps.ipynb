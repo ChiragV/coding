{
 "cells": [
  {
   "cell_type": "markdown",
   "id": "bc7668d9-fb1a-4195-aa90-e72f97616452",
   "metadata": {},
   "source": [
    "#### Convert Integer List to int array"
   ]
  },
  {
   "cell_type": "code",
   "execution_count": 22,
   "id": "c965f715-7ac0-47e5-bee9-94e33bf2e7f6",
   "metadata": {},
   "outputs": [],
   "source": [
    "List<Integer> list=List.of(1,2,3,4);"
   ]
  },
  {
   "cell_type": "code",
   "execution_count": 4,
   "id": "57ec8c94-5cbe-409b-a1ee-8453930291ab",
   "metadata": {},
   "outputs": [
    {
     "data": {
      "text/plain": [
       "[1, 2, 3, 4]"
      ]
     },
     "execution_count": 4,
     "metadata": {},
     "output_type": "execute_result"
    }
   ],
   "source": [
    "int arr[]=list.stream().mapToInt(i->i).toArray();\n",
    "Arrays.toString(arr);"
   ]
  },
  {
   "cell_type": "markdown",
   "id": "02321ccb-5117-45c7-b059-984000958cc9",
   "metadata": {},
   "source": [
    "#### Convert array to List"
   ]
  },
  {
   "cell_type": "code",
   "execution_count": 5,
   "id": "35b23619-9ac3-4679-82e2-3dd63268d563",
   "metadata": {},
   "outputs": [],
   "source": [
    "int[] ints = {1,2,3};"
   ]
  },
  {
   "cell_type": "code",
   "execution_count": 20,
   "id": "c27831d2-7c2d-449d-bc65-8f9651a29624",
   "metadata": {},
   "outputs": [],
   "source": [
    "List<Integer> list = Arrays.stream(ints).boxed().toList();//Java 16\n",
    "//or before java 16\n",
    "List<Integer> list1 =Arrays.stream(ints).boxed().collect(java.util.stream.Collectors.toList());\n",
    "\n"
   ]
  },
  {
   "cell_type": "markdown",
   "id": "796e56ee-ab62-4715-8309-ab90fe291329",
   "metadata": {},
   "source": [
    "#### Reverse a list\n"
   ]
  },
  {
   "cell_type": "code",
   "execution_count": 21,
   "id": "b8cf5301-4560-4b5a-9d86-242604a4c8e0",
   "metadata": {},
   "outputs": [
    {
     "data": {
      "text/plain": [
       "[3, 2, 1]"
      ]
     },
     "execution_count": 21,
     "metadata": {},
     "output_type": "execute_result"
    }
   ],
   "source": [
    "List<Integer> nums = new ArrayList<Integer>();\n",
    "        nums.add(1);\n",
    "        nums.add(2);\n",
    "        nums.add(3);\n",
    "Collections.reverse(nums);\n",
    "nums;"
   ]
  },
  {
   "cell_type": "code",
   "execution_count": null,
   "id": "062854af-62c1-47f1-8404-9ab7d56bad8a",
   "metadata": {},
   "outputs": [],
   "source": []
  }
 ],
 "metadata": {
  "kernelspec": {
   "display_name": "Java",
   "language": "java",
   "name": "java"
  },
  "language_info": {
   "codemirror_mode": "java",
   "file_extension": ".jshell",
   "mimetype": "text/x-java-source",
   "name": "Java",
   "pygments_lexer": "java",
   "version": "17.0.1+12-LTS-39"
  }
 },
 "nbformat": 4,
 "nbformat_minor": 5
}
