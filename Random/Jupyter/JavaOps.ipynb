{
 "cells": [
  {
   "cell_type": "markdown",
   "id": "bc7668d9-fb1a-4195-aa90-e72f97616452",
   "metadata": {},
   "source": [
    "#### Convert Integer List to int array"
   ]
  },
  {
   "cell_type": "code",
   "execution_count": 3,
   "id": "c965f715-7ac0-47e5-bee9-94e33bf2e7f6",
   "metadata": {},
   "outputs": [],
   "source": [
    "List<Integer> list=List.of(1,2,3,4);//umodifiable"
   ]
  },
  {
   "cell_type": "code",
   "execution_count": 4,
   "id": "57ec8c94-5cbe-409b-a1ee-8453930291ab",
   "metadata": {},
   "outputs": [
    {
     "data": {
      "text/plain": [
       "[1, 2, 3, 4]"
      ]
     },
     "execution_count": 4,
     "metadata": {},
     "output_type": "execute_result"
    }
   ],
   "source": [
    "int arr[]=list.stream().mapToInt(i->i).toArray();\n",
    "Arrays.toString(arr);"
   ]
  },
  {
   "cell_type": "markdown",
   "id": "cf810cb1-ac0f-4abb-8c6a-62ad361b4416",
   "metadata": {},
   "source": [
    "#### Convert String array to String List"
   ]
  },
  {
   "cell_type": "code",
   "execution_count": 1,
   "id": "6ddc58cd-6281-47d8-8ed9-bd344d69098a",
   "metadata": {},
   "outputs": [],
   "source": [
    "String[] strArray={\"abc\",\"abc\",\"xyz\"};"
   ]
  },
  {
   "cell_type": "code",
   "execution_count": 2,
   "id": "8f87f86e-3de4-43fe-970a-a3adbab16150",
   "metadata": {},
   "outputs": [
    {
     "data": {
      "text/plain": [
       "[abc, abc, xyz]"
      ]
     },
     "execution_count": 2,
     "metadata": {},
     "output_type": "execute_result"
    }
   ],
   "source": [
    "List<String> listStr=Arrays.asList(strArray);//can't do if array is Primitive data types\n",
    "listStr;"
   ]
  },
  {
   "cell_type": "markdown",
   "id": "822d4e64-a14f-4c5e-b93f-b876bc4ede8f",
   "metadata": {},
   "source": [
    "#### Also make set"
   ]
  },
  {
   "cell_type": "code",
   "execution_count": 5,
   "id": "1aa5babc-696e-42ec-90b8-92cf8e1ba6a8",
   "metadata": {},
   "outputs": [
    {
     "data": {
      "text/plain": [
       "[abc, xyz]"
      ]
     },
     "execution_count": 5,
     "metadata": {},
     "output_type": "execute_result"
    }
   ],
   "source": [
    "Set<String> set=new HashSet(Arrays.asList(strArray));\n",
    "set;"
   ]
  },
  {
   "cell_type": "markdown",
   "id": "57a017ec-acce-4998-89ce-38f2fbd564cb",
   "metadata": {
    "tags": []
   },
   "source": [
    "#### again list"
   ]
  },
  {
   "cell_type": "code",
   "execution_count": 6,
   "id": "545ce7f9-20dd-4488-9a87-c099a96efe19",
   "metadata": {},
   "outputs": [
    {
     "data": {
      "text/plain": [
       "[abc, xyz]"
      ]
     },
     "execution_count": 6,
     "metadata": {},
     "output_type": "execute_result"
    }
   ],
   "source": [
    "List<String> list=new ArrayList(set);\n",
    "list;"
   ]
  },
  {
   "cell_type": "markdown",
   "id": "02321ccb-5117-45c7-b059-984000958cc9",
   "metadata": {},
   "source": [
    "#### Convert array to List"
   ]
  },
  {
   "cell_type": "code",
   "execution_count": 9,
   "id": "35b23619-9ac3-4679-82e2-3dd63268d563",
   "metadata": {},
   "outputs": [],
   "source": [
    "int[] ints = {1,2,3};//because this is Primitive data type"
   ]
  },
  {
   "cell_type": "code",
   "execution_count": 10,
   "id": "c27831d2-7c2d-449d-bc65-8f9651a29624",
   "metadata": {},
   "outputs": [],
   "source": [
    "List<Integer> list = Arrays.stream(ints).boxed().toList();//Java 16\n",
    "//or before java 16\n",
    "List<Integer> list1 =Arrays.stream(ints).boxed().collect(java.util.stream.Collectors.toList());\n",
    "\n"
   ]
  },
  {
   "cell_type": "markdown",
   "id": "796e56ee-ab62-4715-8309-ab90fe291329",
   "metadata": {},
   "source": [
    "#### Reverse a list\n"
   ]
  },
  {
   "cell_type": "code",
   "execution_count": 21,
   "id": "b8cf5301-4560-4b5a-9d86-242604a4c8e0",
   "metadata": {},
   "outputs": [
    {
     "data": {
      "text/plain": [
       "[3, 2, 1]"
      ]
     },
     "execution_count": 21,
     "metadata": {},
     "output_type": "execute_result"
    }
   ],
   "source": [
    "List<Integer> nums = new ArrayList<Integer>();\n",
    "        nums.add(1);\n",
    "        nums.add(2);\n",
    "        nums.add(3);\n",
    "Collections.reverse(nums);\n",
    "nums;"
   ]
  },
  {
   "cell_type": "markdown",
   "id": "e3653f29-2c4b-406e-b835-8d54c2306109",
   "metadata": {},
   "source": [
    "#### Sort two dimentional array with 2nd index \n"
   ]
  },
  {
   "cell_type": "code",
   "execution_count": 1,
   "id": "935f9041-73fc-4542-b92d-1416a42997e8",
   "metadata": {},
   "outputs": [],
   "source": [
    "int arr[][]=new int[][]{{0,33},{1,11},{2,22}};"
   ]
  },
  {
   "cell_type": "code",
   "execution_count": 8,
   "id": "e48fce0d-904d-4ac4-b72f-5a95153e227d",
   "metadata": {},
   "outputs": [
    {
     "data": {
      "text/plain": [
       "[[1, 11], [2, 22], [0, 33]]"
      ]
     },
     "execution_count": 8,
     "metadata": {},
     "output_type": "execute_result"
    }
   ],
   "source": [
    "Arrays.deepToString(arr);//will print [[0, 33], [1, 11], [2, 22]]"
   ]
  },
  {
   "cell_type": "code",
   "execution_count": 6,
   "id": "d4a9554f-b69e-464d-91ca-6625339b6899",
   "metadata": {},
   "outputs": [],
   "source": [
    "Arrays.sort(arr,(a,b)->a[1]-b[1]);"
   ]
  },
  {
   "cell_type": "code",
   "execution_count": 9,
   "id": "a251a596-547c-4678-babb-c95964df4158",
   "metadata": {},
   "outputs": [
    {
     "data": {
      "text/plain": [
       "[[1, 11], [2, 22], [0, 33]]"
      ]
     },
     "execution_count": 9,
     "metadata": {},
     "output_type": "execute_result"
    }
   ],
   "source": [
    "Arrays.deepToString(arr); //will print [[1, 11], [2, 22], [0, 33]]"
   ]
  },
  {
   "cell_type": "code",
   "execution_count": null,
   "id": "ff2321bb-3ddd-4ec5-8843-f68c1e3a97f8",
   "metadata": {},
   "outputs": [],
   "source": []
  }
 ],
 "metadata": {
  "kernelspec": {
   "display_name": "Java",
   "language": "java",
   "name": "java"
  },
  "language_info": {
   "codemirror_mode": "java",
   "file_extension": ".jshell",
   "mimetype": "text/x-java-source",
   "name": "Java",
   "pygments_lexer": "java",
   "version": "17.0.1+12-LTS-39"
  }
 },
 "nbformat": 4,
 "nbformat_minor": 5
}
