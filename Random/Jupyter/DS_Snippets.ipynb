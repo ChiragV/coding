{
 "cells": [
  {
   "cell_type": "markdown",
   "id": "79f889b5-7b5b-4c1c-9bf4-ca651078033f",
   "metadata": {},
   "source": [
    "### Traverse all 8 directions of matrix"
   ]
  },
  {
   "cell_type": "code",
   "execution_count": 13,
   "id": "a863a10c-7cd7-4f2c-91b0-6404ab294372",
   "metadata": {},
   "outputs": [],
   "source": [
    "boolean isSafe(int M[][], int row, int col)\n",
    "{\n",
    "        // row number is in range, column number is in range\n",
    "       return (row >= 0) && (row < M.length) && (col >= 0) && (col < M[0].length);\n",
    "}"
   ]
  },
  {
   "cell_type": "code",
   "execution_count": 21,
   "id": "ce2b02ec-e9e3-473a-a447-b32b424ca9f0",
   "metadata": {},
   "outputs": [],
   "source": [
    "int M[][] = new int[][] { { 1, 2, 3 },\n",
    "                          { 4, 9, 5 },\n",
    "                          { 6, 7, 8 } };"
   ]
  },
  {
   "cell_type": "code",
   "execution_count": 22,
   "id": "4d3a30ad-2a25-44ca-b40d-6a1454e6e97f",
   "metadata": {},
   "outputs": [
    {
     "name": "stdout",
     "output_type": "stream",
     "text": [
      "1 2 3 4 5 6 7 8 "
     ]
    }
   ],
   "source": [
    "// These arrays are used to get row and column numbers\n",
    "        // of 8 neighbors of a given cell\n",
    "        int rowNbr[] = new int[] { -1,-1,-1, 0, 0, 1, 1, 1 };\n",
    "        int colNbr[] = new int[] { -1, 0, 1,-1, 1,-1, 0, 1 };\n",
    "        //top-left,above,top-right,left,right,bottom-left,down,right-bottm\n",
    "        int row=1;\n",
    "        int col=1;\n",
    "        //visit all neighbours of 9\n",
    "        for (int k = 0; k < 8; ++k)\n",
    "        {\n",
    "            if (isSafe(M, row + rowNbr[k], col + colNbr[k]))\n",
    "                System.out.print(M[row + rowNbr[k]][col + colNbr[k]]+\" \");\n",
    "        }"
   ]
  },
  {
   "cell_type": "code",
   "execution_count": 23,
   "id": "89179bc9-41e6-47b5-ae65-fb0a7f7581e3",
   "metadata": {},
   "outputs": [
    {
     "name": "stdout",
     "output_type": "stream",
     "text": [
      "9 5 7 "
     ]
    }
   ],
   "source": [
    "        int row=2;\n",
    "        int col=2;\n",
    "        //visit all neighbours of 8\n",
    "        for (int k = 0; k < 8; ++k)\n",
    "        {\n",
    "            if (isSafe(M, row + rowNbr[k], col + colNbr[k]))\n",
    "                System.out.print(M[row + rowNbr[k]][col + colNbr[k]]+\" \");\n",
    "        }"
   ]
  },
  {
   "cell_type": "markdown",
   "id": "b44482ff-333f-485f-b48d-f32d20c1c73b",
   "metadata": {},
   "source": [
    "End"
   ]
  },
  {
   "cell_type": "code",
   "execution_count": null,
   "id": "ec076bf9-af28-4f83-9071-b332176619c1",
   "metadata": {},
   "outputs": [],
   "source": []
  }
 ],
 "metadata": {
  "kernelspec": {
   "display_name": "Java",
   "language": "java",
   "name": "java"
  },
  "language_info": {
   "codemirror_mode": "java",
   "file_extension": ".jshell",
   "mimetype": "text/x-java-source",
   "name": "Java",
   "pygments_lexer": "java",
   "version": "17.0.1+12-LTS-39"
  }
 },
 "nbformat": 4,
 "nbformat_minor": 5
}
