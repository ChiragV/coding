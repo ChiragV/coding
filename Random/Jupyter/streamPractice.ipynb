{
 "cells": [
  {
   "cell_type": "markdown",
   "id": "d51cf06f-5fc1-4557-b6fc-a1f55f0973c6",
   "metadata": {},
   "source": [
    "# Reduce"
   ]
  },
  {
   "cell_type": "markdown",
   "id": "baa36bd7-335c-4d9e-b63d-b517db588566",
   "metadata": {},
   "source": [
    "The reduce() method combines a stream into a single object. It is a\n",
    "reduction, which means it processes all elements."
   ]
  },
  {
   "cell_type": "markdown",
   "id": "41bf24ac-c0ee-426a-8fa9-456bcba78494",
   "metadata": {},
   "source": [
    "### 1. With Identity"
   ]
  },
  {
   "cell_type": "markdown",
   "id": "849e524d-bfce-41a7-a35d-235f288d1388",
   "metadata": {},
   "source": [
    "T reduce(T identity, BinaryOperator<T> accumulator)"
   ]
  },
  {
   "cell_type": "code",
   "execution_count": 4,
   "id": "63c26f62-fba2-48a0-834d-9cadb0d477bc",
   "metadata": {},
   "outputs": [
    {
     "data": {
      "text/plain": [
       "wolf"
      ]
     },
     "execution_count": 4,
     "metadata": {},
     "output_type": "execute_result"
    }
   ],
   "source": [
    "java.util.stream.Stream<String> str = java.util.stream.Stream.of(\"w\",\"o\",\"l\",\"f\");\n",
    "str.reduce(\"\",String::concat);//with identity"
   ]
  },
  {
   "cell_type": "markdown",
   "id": "5dbccecd-6739-459d-9a71-f34f10bab043",
   "metadata": {},
   "source": [
    "### 2. Without Identity"
   ]
  },
  {
   "cell_type": "markdown",
   "id": "13d5cf05-2ccb-4cc7-8a11-f0ba87bb5e1d",
   "metadata": {},
   "source": [
    "T reduce(T identity, BinaryOperator<T> accumulator)"
   ]
  },
  {
   "cell_type": "code",
   "execution_count": 8,
   "id": "72ef610f-6011-41d8-816c-f69ab1e37390",
   "metadata": {},
   "outputs": [
    {
     "data": {
      "text/plain": [
       "wolf"
      ]
     },
     "execution_count": 8,
     "metadata": {},
     "output_type": "execute_result"
    }
   ],
   "source": [
    "java.util.stream.Stream<String> str = java.util.stream.Stream.of(\"w\",\"o\",\"l\",\"f\");\n",
    "str.reduce((a,b)->a.toString()+b.toString()).get();//return Optional"
   ]
  },
  {
   "cell_type": "markdown",
   "id": "52242238-c431-4a93-b8e1-92b1f676cfb2",
   "metadata": {},
   "source": [
    "### 3. Mix datatype"
   ]
  },
  {
   "cell_type": "markdown",
   "id": "0ea616c7-5630-4764-99c1-2f6c7583bb77",
   "metadata": {},
   "source": [
    "T reduce(T identity, BinaryOperator<T> accumulator)"
   ]
  },
  {
   "cell_type": "code",
   "execution_count": 9,
   "id": "f280a231-38aa-4327-8846-95149688827d",
   "metadata": {},
   "outputs": [
    {
     "data": {
      "text/plain": [
       "4"
      ]
     },
     "execution_count": 9,
     "metadata": {},
     "output_type": "execute_result"
    }
   ],
   "source": [
    "java.util.stream.Stream<String> str = java.util.stream.Stream.of(\"w\",\"o\",\"l\",\"f\");\n",
    "str.reduce(0,(a,b)->a+b.length(),(a,b)->a+b);"
   ]
  },
  {
   "cell_type": "code",
   "execution_count": null,
   "id": "05c80551-07d0-407d-85d1-df3e602bd32e",
   "metadata": {},
   "outputs": [],
   "source": []
  }
 ],
 "metadata": {
  "kernelspec": {
   "display_name": "Java",
   "language": "java",
   "name": "java"
  },
  "language_info": {
   "codemirror_mode": "java",
   "file_extension": ".jshell",
   "mimetype": "text/x-java-source",
   "name": "Java",
   "pygments_lexer": "java",
   "version": "17.0.1+12-LTS-39"
  }
 },
 "nbformat": 4,
 "nbformat_minor": 5
}
